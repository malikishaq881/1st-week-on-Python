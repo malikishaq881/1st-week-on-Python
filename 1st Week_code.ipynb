{
  "cells": [
    {
      "cell_type": "code",
      "execution_count": null,
      "id": "c746e97f",
      "metadata": {
        "id": "c746e97f",
        "outputId": "4cc8f9e2-c832-4f84-9bc4-de282de73c72"
      },
      "outputs": [
        {
          "name": "stdout",
          "output_type": "stream",
          "text": [
            "Mudasar Latif Memon\n",
            "Welcome Mr. Mudasar Latif Memon\n"
          ]
        }
      ],
      "source": [
        "# Printing Welcome\n",
        "\n",
        "name= input ()\n",
        "print (\"Welcome Mr. \"+ name)"
      ]
    },
    {
      "cell_type": "code",
      "execution_count": null,
      "id": "de02b3a1",
      "metadata": {
        "id": "de02b3a1",
        "outputId": "98cc3991-0832-49d9-f6f1-b83ec56d9160"
      },
      "outputs": [
        {
          "name": "stdout",
          "output_type": "stream",
          "text": [
            "enter the hours 40\n",
            "enter rate per hour 5000\n",
            "your grosspay is 200000\n"
          ]
        }
      ],
      "source": [
        "# Calculating  Gross Pay\n",
        "\n",
        "hours = int(input (\"enter the hours \"))\n",
        "rateperhour = int(input (\"enter rate per hour \"))\n",
        "grosspay= hours*rateperhour\n",
        "print (\"your grosspay is\", grosspay)"
      ]
    },
    {
      "cell_type": "code",
      "execution_count": null,
      "id": "2604f8cf",
      "metadata": {
        "id": "2604f8cf",
        "outputId": "c302a74b-9e06-45c1-98af-2b1eb21d4ac7"
      },
      "outputs": [
        {
          "name": "stdout",
          "output_type": "stream",
          "text": [
            "enter the celcius temprature30\n",
            "The Farhenheit Temprature is = 86.0 F\n"
          ]
        }
      ],
      "source": [
        "# Celcius to Farhenheit Temprature Conversion\n",
        "\n",
        "celcius= int (input (\"enter the celcius temprature\"))\n",
        "farhenheit= (celcius * 9/5) + 32\n",
        "print (\"The Farhenheit Temprature is =\", farhenheit ,\"F\")"
      ]
    },
    {
      "cell_type": "code",
      "execution_count": null,
      "id": "ac5c18c0",
      "metadata": {
        "id": "ac5c18c0",
        "outputId": "67c39e96-6739-4770-bdb5-2ad49d210328"
      },
      "outputs": [
        {
          "data": {
            "text/plain": [
              "False"
            ]
          },
          "execution_count": 8,
          "metadata": {},
          "output_type": "execute_result"
        }
      ],
      "source": [
        "## Expressions ##\n",
        "\n",
        "5==5\n",
        "\n",
        "x= 2\n",
        "y= 3\n",
        "x==y"
      ]
    },
    {
      "cell_type": "code",
      "execution_count": null,
      "id": "20fb6c27",
      "metadata": {
        "id": "20fb6c27",
        "outputId": "17107850-31af-47b8-e485-ed84a21bfaa5"
      },
      "outputs": [
        {
          "data": {
            "text/plain": [
              "True"
            ]
          },
          "execution_count": 9,
          "metadata": {},
          "output_type": "execute_result"
        }
      ],
      "source": [
        "# Logical Operators\n",
        "\n",
        "x!=y"
      ]
    },
    {
      "cell_type": "code",
      "execution_count": null,
      "id": "0cd533d6",
      "metadata": {
        "id": "0cd533d6",
        "outputId": "c1443b57-4c04-4d0d-d60d-b32b911fab19"
      },
      "outputs": [
        {
          "data": {
            "text/plain": [
              "True"
            ]
          },
          "execution_count": 10,
          "metadata": {},
          "output_type": "execute_result"
        }
      ],
      "source": [
        "# Boolean Operators\n",
        "\n",
        "x is y\n",
        "x and y\n",
        "x>0 and x<10"
      ]
    },
    {
      "cell_type": "code",
      "execution_count": null,
      "id": "4f3dcc40",
      "metadata": {
        "id": "4f3dcc40"
      },
      "outputs": [],
      "source": [
        "not (x>y)\n",
        "not (x<y)\n"
      ]
    },
    {
      "cell_type": "code",
      "execution_count": null,
      "id": "62ac0c72",
      "metadata": {
        "id": "62ac0c72",
        "outputId": "3ca887d9-3fbc-428b-d2aa-b810933031af"
      },
      "outputs": [
        {
          "name": "stdout",
          "output_type": "stream",
          "text": [
            "input an integer 5\n",
            "x is less than 10\n"
          ]
        }
      ],
      "source": [
        "x= int (input ('input an integer '))\n",
        "if x <10:\n",
        "    print ('x is less than 10')"
      ]
    },
    {
      "cell_type": "code",
      "execution_count": null,
      "id": "81eb4eef",
      "metadata": {
        "id": "81eb4eef",
        "outputId": "fa910f96-7fc6-4d85-ca81-ceb06b4e1ce1"
      },
      "outputs": [
        {
          "name": "stdout",
          "output_type": "stream",
          "text": [
            "x and y are equal\n"
          ]
        }
      ],
      "source": [
        "# Conditional Statements if elif\n",
        "\n",
        "x=10\n",
        "y=10\n",
        "if x<y:\n",
        "    print ('x is less than y')\n",
        "elif x>y:\n",
        "    print ('x is greated than y')\n",
        "else:\n",
        "    print ('x and y are equal')"
      ]
    },
    {
      "cell_type": "code",
      "execution_count": null,
      "id": "da072c3e",
      "metadata": {
        "id": "da072c3e",
        "outputId": "71fcd205-cf71-44a3-9938-e166821f6824"
      },
      "outputs": [
        {
          "name": "stdout",
          "output_type": "stream",
          "text": [
            "x and y are equal\n"
          ]
        }
      ],
      "source": [
        "# conditional Nested if else\n",
        "x=10\n",
        "y=10\n",
        "if x==y:\n",
        "    print ('x and y are equal')\n",
        "else :\n",
        "    if x<y:\n",
        "         print ('x is less than y')\n",
        "    else:\n",
        "        print ('x and y is greated')"
      ]
    },
    {
      "cell_type": "code",
      "execution_count": null,
      "id": "f737d29b",
      "metadata": {
        "id": "f737d29b",
        "outputId": "7f01cf92-468e-4ffa-f285-8d2a12a0bb72"
      },
      "outputs": [
        {
          "name": "stdout",
          "output_type": "stream",
          "text": [
            "Enter Farhenheit Temprature:98\n",
            "36.666666666666664\n"
          ]
        }
      ],
      "source": [
        "# Try Except\n",
        "\n",
        "\n",
        "inp = input ('Enter Farhenheit Temprature:')\n",
        "try:\n",
        "    far = float (inp)\n",
        "    cel = (far- 32.0) * 5.0 /9.0\n",
        "    print(cel)\n",
        "except:\n",
        "    print ('Please enter a number')\n"
      ]
    },
    {
      "cell_type": "code",
      "execution_count": null,
      "id": "26c77af0",
      "metadata": {
        "id": "26c77af0",
        "outputId": "2f85747f-5aa4-47b4-d7ea-4e31854035b4"
      },
      "outputs": [
        {
          "name": "stdout",
          "output_type": "stream",
          "text": [
            "Enter a value beterr 0.0 to 1.00.5\n",
            "You have entered right value\n",
            " Your grade is F = on your given score  0.5\n"
          ]
        }
      ],
      "source": [
        "# Nest if elif\n",
        "\n",
        "\n",
        "score= float (input ('Enter a value between\n",
        "                     0.0 to 1.0'))\n",
        "if score >= 0.0 and score <1.0:\n",
        "    print ('You have entered right value')\n",
        "    if score >=0.9:\n",
        "        print (' Your grade is A  = on your given score ', score)\n",
        "    elif score >= 0.8 :\n",
        "        print (' Your grade is B  = on your given score ', score)\n",
        "    elif score >= 0.7 :\n",
        "        print (' Your grade is C = on your given score ', score)\n",
        "    elif score >= 0.6 :\n",
        "        print (' Your grade is D = on your given score ', score)\n",
        "    elif score >= 0.5 :\n",
        "        print (' Your grade is F = on your given score ', score)\n",
        "else:\n",
        "    print ('please enter the correct value')\n"
      ]
    },
    {
      "cell_type": "code",
      "execution_count": null,
      "id": "a0d77628",
      "metadata": {
        "id": "a0d77628",
        "outputId": "8776a974-eb12-426c-c75c-34810e21dbbf"
      },
      "outputs": [
        {
          "name": "stdout",
          "output_type": "stream",
          "text": [
            "0.7853981633974483\n",
            "0.7071067811865476\n"
          ]
        }
      ],
      "source": [
        "# Import Library Math\n",
        "\n",
        "\n",
        "import math\n",
        "degrees = 45\n",
        "radians = degrees / 360.0 * 2 * math.pi\n",
        "\n",
        "rad_sin= math.sin (radians)\n",
        "print (radians)\n",
        "print (rad_sin)\n"
      ]
    },
    {
      "cell_type": "code",
      "execution_count": null,
      "id": "6f048cee",
      "metadata": {
        "id": "6f048cee",
        "outputId": "873369ca-2a6c-4a99-fe16-bb76b2d69c13"
      },
      "outputs": [
        {
          "name": "stdout",
          "output_type": "stream",
          "text": [
            "0.7853981633974483\n",
            "0.7071067811865476\n"
          ]
        }
      ],
      "source": [
        "# Import library with Alias\n",
        "\n",
        "\n",
        "import math as ma\n",
        "degrees = 45\n",
        "radians = degrees / 360.0 * 2 * ma.pi\n",
        "\n",
        "rad_sin= math.sin (radians)\n",
        "print (radians)\n",
        "print (rad_sin)\n"
      ]
    },
    {
      "cell_type": "code",
      "execution_count": null,
      "id": "87322957",
      "metadata": {
        "id": "87322957",
        "outputId": "afb6aefb-a339-41f3-9601-6451c5d50cdf"
      },
      "outputs": [
        {
          "name": "stdout",
          "output_type": "stream",
          "text": [
            "0.7853981633974483\n",
            "0.7071067811865476\n"
          ]
        }
      ],
      "source": [
        "# Import specific function from library\n",
        "\n",
        "\n",
        "from math import pi,sin\n",
        "degrees = 45\n",
        "radians = degrees / 360.0 * 2 * ma.pi\n",
        "\n",
        "rad_sin= math.sin (radians)\n",
        "print (radians)\n",
        "print (rad_sin)\n"
      ]
    },
    {
      "cell_type": "code",
      "execution_count": null,
      "id": "f9276b7a",
      "metadata": {
        "id": "f9276b7a",
        "outputId": "61bee68b-8677-4cce-8f23-e160a70e3ef2"
      },
      "outputs": [
        {
          "name": "stdout",
          "output_type": "stream",
          "text": [
            "8\n",
            "9\n",
            "8\n",
            "10\n",
            "6\n",
            "6\n",
            "9\n",
            "6\n",
            "8\n",
            "10\n",
            "10\n"
          ]
        }
      ],
      "source": [
        "# Random function/ randint/ randchoice\n",
        "\n",
        "\n",
        "import random\n",
        "for i in range (10):\n",
        "    x= random.randint(5,10)\n",
        "    print (x)\n",
        "\n",
        "print (x)\n",
        "\n",
        "\n"
      ]
    },
    {
      "cell_type": "code",
      "execution_count": null,
      "id": "084ebfb5",
      "metadata": {
        "id": "084ebfb5",
        "outputId": "4bf9038d-669a-49b4-fab7-0f342e58f2d2"
      },
      "outputs": [
        {
          "name": "stdout",
          "output_type": "stream",
          "text": [
            "Mudasar\n",
            "Latif\n"
          ]
        },
        {
          "data": {
            "text/plain": [
              "('Mudasar', 'Latif')"
            ]
          },
          "execution_count": 29,
          "metadata": {},
          "output_type": "execute_result"
        }
      ],
      "source": [
        "\n",
        "t= ['Mudasar', 'Latif', 'Memon']\n",
        "random.choice(t)\n",
        "\n",
        "\n",
        "def print_fullname(first_name, last_name):\n",
        "    print (first_name)\n",
        "    print (last_name)\n",
        "\n",
        "    return(first_name, last_name)\n",
        "print_fullname('Mudasar','Latif')\n"
      ]
    },
    {
      "cell_type": "code",
      "execution_count": null,
      "id": "2ab0a040",
      "metadata": {
        "id": "2ab0a040"
      },
      "outputs": [],
      "source": [
        "# End of First Day"
      ]
    }
  ],
  "metadata": {
    "kernelspec": {
      "display_name": "Python 3 (ipykernel)",
      "language": "python",
      "name": "python3"
    },
    "language_info": {
      "codemirror_mode": {
        "name": "ipython",
        "version": 3
      },
      "file_extension": ".py",
      "mimetype": "text/x-python",
      "name": "python",
      "nbconvert_exporter": "python",
      "pygments_lexer": "ipython3",
      "version": "3.11.3"
    },
    "colab": {
      "provenance": []
    }
  },
  "nbformat": 4,
  "nbformat_minor": 5
}